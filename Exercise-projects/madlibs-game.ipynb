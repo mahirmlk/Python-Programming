{
 "cells": [
  {
   "cell_type": "code",
   "execution_count": 3,
   "id": "4ae8cc14",
   "metadata": {},
   "outputs": [
    {
     "name": "stdout",
     "output_type": "stream",
     "text": [
      "today I went to a zoo\n",
      "I was feeling very happy\n",
      "I saw famous footballer mbappe there\n",
      "I felt so lucky to meet him\n"
     ]
    }
   ],
   "source": [
    "# Madlibs game\n",
    "# Word game where you create a story\n",
    "# by filling words in the blanks\n",
    "\n",
    "noun1 = input(\"Enter the place: \")\n",
    "verb1 = input(\"Enter the verb form with ing: \")\n",
    "adjective1 = input(\"Enter the adjective1: \")\n",
    "noun2   = input(\"Enter the person's name: \")\n",
    "adjective2 = input(\"Enter the adjective2: \")\n",
    "\n",
    "print(f\"today I went to a {noun1}\")\n",
    "print(f\"I was {verb1} very {adjective1}\")\n",
    "print(f\"I saw famous footballer {noun2} there\")\n",
    "print(f\"I felt so {adjective2} to meet him\")"
   ]
  }
 ],
 "metadata": {
  "kernelspec": {
   "display_name": "Python 3",
   "language": "python",
   "name": "python3"
  },
  "language_info": {
   "codemirror_mode": {
    "name": "ipython",
    "version": 3
   },
   "file_extension": ".py",
   "mimetype": "text/x-python",
   "name": "python",
   "nbconvert_exporter": "python",
   "pygments_lexer": "ipython3",
   "version": "3.13.5"
  }
 },
 "nbformat": 4,
 "nbformat_minor": 5
}
