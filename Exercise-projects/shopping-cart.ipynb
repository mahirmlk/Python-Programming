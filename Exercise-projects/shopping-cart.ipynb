{
 "cells": [
  {
   "cell_type": "code",
   "execution_count": 1,
   "id": "f39ab947",
   "metadata": {},
   "outputs": [
    {
     "name": "stdout",
     "output_type": "stream",
     "text": [
      "you have both 5 x chocolate/s\n",
      "your total is 250.0\n"
     ]
    }
   ],
   "source": [
    "# Shopping cart calculator\n",
    "\n",
    "item = input(\"what would you like to buy:\" )\n",
    "price = float(input(\"what is the price? :\" ))\n",
    "quantity = int(input(\"how many would you like to buy:\"))\n",
    "\n",
    "total = price * quantity\n",
    "\n",
    "print(f\"you have both {quantity} x {item}/s\")\n",
    "print(f\"your total is {total}\")"
   ]
  }
 ],
 "metadata": {
  "kernelspec": {
   "display_name": "Python 3",
   "language": "python",
   "name": "python3"
  },
  "language_info": {
   "codemirror_mode": {
    "name": "ipython",
    "version": 3
   },
   "file_extension": ".py",
   "mimetype": "text/x-python",
   "name": "python",
   "nbconvert_exporter": "python",
   "pygments_lexer": "ipython3",
   "version": "3.13.5"
  }
 },
 "nbformat": 4,
 "nbformat_minor": 5
}
