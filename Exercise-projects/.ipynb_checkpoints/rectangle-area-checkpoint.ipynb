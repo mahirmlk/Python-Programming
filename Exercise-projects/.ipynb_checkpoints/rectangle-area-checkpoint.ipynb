{
 "cells": [
  {
   "cell_type": "code",
   "execution_count": 3,
   "id": "4fc64d57-50b3-4888-a9db-7eaf0b39caf0",
   "metadata": {},
   "outputs": [
    {
     "name": "stdin",
     "output_type": "stream",
     "text": [
      "Enter the length of Rectangle:  4\n",
      "Enter the width of Rectangle:  5\n"
     ]
    },
    {
     "name": "stdout",
     "output_type": "stream",
     "text": [
      "area of rectangle is 20.0\n"
     ]
    }
   ],
   "source": [
    "# Area of Rectangle\n",
    "\n",
    "length = float(input(\"Enter the length of Rectangle: \"))\n",
    "width = float(input(\"Enter the width of Rectangle: \"))\n",
    "\n",
    "area= length*width\n",
    "\n",
    "print(f\"area of rectangle is {area}\")"
   ]
  },
  {
   "cell_type": "code",
   "execution_count": null,
   "id": "a8abe974-0915-4e2b-b57a-32596b7afff2",
   "metadata": {},
   "outputs": [],
   "source": []
  }
 ],
 "metadata": {
  "kernelspec": {
   "display_name": "Python 3 (ipykernel)",
   "language": "python",
   "name": "python3"
  },
  "language_info": {
   "codemirror_mode": {
    "name": "ipython",
    "version": 3
   },
   "file_extension": ".py",
   "mimetype": "text/x-python",
   "name": "python",
   "nbconvert_exporter": "python",
   "pygments_lexer": "ipython3",
   "version": "3.13.5"
  }
 },
 "nbformat": 4,
 "nbformat_minor": 5
}
