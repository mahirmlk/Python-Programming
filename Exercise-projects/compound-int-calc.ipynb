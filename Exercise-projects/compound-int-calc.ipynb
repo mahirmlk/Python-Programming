{
 "cells": [
  {
   "cell_type": "code",
   "execution_count": null,
   "id": "b91de0c0",
   "metadata": {},
   "outputs": [],
   "source": [
    "# compound interest calculator\n",
    "\n",
    "principle = 0\n",
    "rate = 0\n",
    "time = 0\n",
    "\n",
    "while principle <= 0:\n",
    "    principle = float(input(\"Enter the principle amount: \"))\n",
    "    if principle <= 0:\n",
    "        print(\"Principle amount must be greater than 0.\")\n",
    "\n",
    "while rate <= 0:\n",
    "    rate = float(input(\"Enter the interest rate: \"))\n",
    "    if rate <= 0:\n",
    "        print(\"Interest rate must be greater than 0.\")    \n",
    "\n",
    "while time <= 0:\n",
    "    time = int(input(\"Enter the time in years: \"))\n",
    "    if time <= 0:\n",
    "        print(\"time must be greater than 0.\")   \n",
    "\n",
    "total = principle * pow(1 + rate / 100, time)    \n",
    "print(f\"The total amount after {time} years is: ${total:.2f}\")            "
   ]
  }
 ],
 "metadata": {
  "kernelspec": {
   "display_name": "Python 3",
   "language": "python",
   "name": "python3"
  },
  "language_info": {
   "codemirror_mode": {
    "name": "ipython",
    "version": 3
   },
   "file_extension": ".py",
   "mimetype": "text/x-python",
   "name": "python",
   "nbconvert_exporter": "python",
   "pygments_lexer": "ipython3",
   "version": "3.13.5"
  }
 },
 "nbformat": 4,
 "nbformat_minor": 5
}
