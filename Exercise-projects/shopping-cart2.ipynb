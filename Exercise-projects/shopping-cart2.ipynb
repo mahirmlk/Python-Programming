{
 "cells": [
  {
   "cell_type": "code",
   "execution_count": null,
   "id": "192d3803",
   "metadata": {},
   "outputs": [],
   "source": [
    "# shopping cart program\n",
    "\n",
    "foods = []\n",
    "prices = []\n",
    "total = 0\n",
    "\n",
    "while True:\n",
    "    food = input(\"Enter food item to buy ('done' to finish): \")\n",
    "    if food.lower() == \"done\":\n",
    "        break\n",
    "    else:\n",
    "        price = float(input(f\"Enter price for {food}: \"))\n",
    "        foods.append(food)\n",
    "        prices.append(price)\n",
    "\n",
    "for food in foods:\n",
    "    print(food)\n",
    "\n",
    "for price in prices:\n",
    "    total += price\n",
    "    \n",
    "print()   \n",
    "print(f\" Your Total is: ${total}\" )\n"
   ]
  }
 ],
 "metadata": {
  "kernelspec": {
   "display_name": "Python 3",
   "language": "python",
   "name": "python3"
  },
  "language_info": {
   "codemirror_mode": {
    "name": "ipython",
    "version": 3
   },
   "file_extension": ".py",
   "mimetype": "text/x-python",
   "name": "python",
   "nbconvert_exporter": "python",
   "pygments_lexer": "ipython3",
   "version": "3.13.5"
  }
 },
 "nbformat": 4,
 "nbformat_minor": 5
}
