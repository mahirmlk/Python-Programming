{
 "cells": [
  {
   "cell_type": "code",
   "execution_count": 1,
   "id": "4fc64d57-50b3-4888-a9db-7eaf0b39caf0",
   "metadata": {},
   "outputs": [
    {
     "name": "stdout",
     "output_type": "stream",
     "text": [
      "area of rectangle is 24.0\n"
     ]
    }
   ],
   "source": [
    "# Area of Rectangle\n",
    "\n",
    "length = float(input(\"Enter the length of Rectangle: \"))\n",
    "width = float(input(\"Enter the width of Rectangle: \"))\n",
    "\n",
    "area= length*width\n",
    "\n",
    "print(f\"area of rectangle is {area}\")"
   ]
  }
 ],
 "metadata": {
  "kernelspec": {
   "display_name": "Python 3",
   "language": "python",
   "name": "python3"
  },
  "language_info": {
   "codemirror_mode": {
    "name": "ipython",
    "version": 3
   },
   "file_extension": ".py",
   "mimetype": "text/x-python",
   "name": "python",
   "nbconvert_exporter": "python",
   "pygments_lexer": "ipython3",
   "version": "3.13.5"
  }
 },
 "nbformat": 4,
 "nbformat_minor": 5
}
