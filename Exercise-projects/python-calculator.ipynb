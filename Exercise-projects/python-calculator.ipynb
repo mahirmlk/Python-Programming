{
 "cells": [
  {
   "cell_type": "code",
   "execution_count": null,
   "id": "07f0d271",
   "metadata": {},
   "outputs": [],
   "source": [
    "# Python calculator\n",
    "\n",
    "operator = input(\"Enter the opeartor( + - * /): \")\n",
    "num1 = float(input(\"Enter the first number\"))\n",
    "num2 = float(input(\"Enter the second number\"))\n",
    "\n",
    "if operator == \"+\":\n",
    "    result = num1 + num2\n",
    "    print(round(result, 2))\n",
    "\n",
    "elif operator == \"-\":\n",
    "    result = num1 - num2\n",
    "    print(round(result, 2))    \n",
    "\n",
    "elif operator == \"*\":\n",
    "    result = num1 * num2\n",
    "    print(round(result, 2))   \n",
    "\n",
    "elif operator == \"/\":\n",
    "    result = num1 / num2\n",
    "    print(round(result, 2))\n",
    "\n",
    "else:\n",
    "    print(\"the {operator} is not a valid operator\")    \n"
   ]
  },
  {
   "cell_type": "code",
   "execution_count": null,
   "id": "51ed8c86",
   "metadata": {},
   "outputs": [],
   "source": [
    "# Python weight converter\n",
    "\n",
    "weight = float(input(\"Enter you weight: \"))\n",
    "unit = input(\"Enter the unit  pounds (L) or kilogram (K): \")\n",
    "\n",
    "if unit == \"L\":\n",
    "    weight = weight / 2.205\n",
    "    unit = \"Kgs\"\n",
    "    print(f\"your weight is {round(weight, 2)} {unit}\")\n",
    "\n",
    "elif unit == \"K\":\n",
    "    weight = weight * 2.205\n",
    "    unit = \"Lbs\"\n",
    "    print(f\"your weight is {round(weight, 2)} {unit}\")\n",
    "\n",
    "else:    \n",
    "    print(\"Invalid unit\")"
   ]
  }
 ],
 "metadata": {
  "kernelspec": {
   "display_name": "Python 3",
   "language": "python",
   "name": "python3"
  },
  "language_info": {
   "codemirror_mode": {
    "name": "ipython",
    "version": 3
   },
   "file_extension": ".py",
   "mimetype": "text/x-python",
   "name": "python",
   "nbconvert_exporter": "python",
   "pygments_lexer": "ipython3",
   "version": "3.13.5"
  }
 },
 "nbformat": 4,
 "nbformat_minor": 5
}
