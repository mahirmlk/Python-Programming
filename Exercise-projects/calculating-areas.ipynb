{
 "cells": [
  {
   "cell_type": "code",
   "execution_count": 3,
   "id": "92134e3b",
   "metadata": {},
   "outputs": [
    {
     "name": "stdout",
     "output_type": "stream",
     "text": [
      "The circumference of the circle is: 31.42\n"
     ]
    }
   ],
   "source": [
    "# circumference of circle\n",
    "\n",
    "import math\n",
    "\n",
    "radius = float(input(\"Enter the radius of the circle: \"))\n",
    "circumference = 2 * math.pi * radius\n",
    "\n",
    "print(f\"The circumference of the circle is: {round (circumference , 2)}\")\n"
   ]
  },
  {
   "cell_type": "code",
   "execution_count": 6,
   "id": "918c7e75",
   "metadata": {},
   "outputs": [
    {
     "name": "stdout",
     "output_type": "stream",
     "text": [
      "The area of the circle is: 78.54\n"
     ]
    }
   ],
   "source": [
    "# Area of circle\n",
    "\n",
    "import math\n",
    "\n",
    "radius  = float(input(\"Enter the radius of the circle: \"))\n",
    "area = math.pi * pow(radius, 2)\n",
    "\n",
    "print(f\"The area of the circle is: {round (area , 2)}\")\n"
   ]
  },
  {
   "cell_type": "code",
   "execution_count": 7,
   "id": "8124b698",
   "metadata": {},
   "outputs": [
    {
     "name": "stdout",
     "output_type": "stream",
     "text": [
      "The length of the hypotenuse c is: 5.0\n"
     ]
    }
   ],
   "source": [
    "import math\n",
    "\n",
    "a = float(input(\"Enter the length of side a: \"))\n",
    "b = float(input(\"Enter the length of side b: \"))\n",
    "\n",
    "c = math.sqrt(pow(a, 2) + pow(b, 2))\n",
    "\n",
    "print(f\"The length of the hypotenuse c is: {c}\")"
   ]
  }
 ],
 "metadata": {
  "kernelspec": {
   "display_name": "Python 3",
   "language": "python",
   "name": "python3"
  },
  "language_info": {
   "codemirror_mode": {
    "name": "ipython",
    "version": 3
   },
   "file_extension": ".py",
   "mimetype": "text/x-python",
   "name": "python",
   "nbconvert_exporter": "python",
   "pygments_lexer": "ipython3",
   "version": "3.13.5"
  }
 },
 "nbformat": 4,
 "nbformat_minor": 5
}
