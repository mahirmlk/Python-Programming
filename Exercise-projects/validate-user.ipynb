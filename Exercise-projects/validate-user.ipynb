{
 "cells": [
  {
   "cell_type": "code",
   "execution_count": null,
   "id": "151af009",
   "metadata": {},
   "outputs": [],
   "source": [
    "# validate user input\n",
    "# username must not contain spaces\n",
    "# username must not contain digits\n",
    "# username must be at least 3 characters long\n",
    "# username is no more than 20 characters long\n",
    "\n",
    "username = input(\"Enter your username: \")\n",
    "\n",
    "if len(username) < 3:\n",
    "    print(\"Username must be at least 3 characters long.\")\n",
    "\n",
    "elif len(username) > 20:\n",
    "    print(\"Usernmae must be no more than 20 characters long.\")\n",
    "\n",
    "elif not username.find(\" \") == -1:\n",
    "    print(\"Username can't contain spaces.\")\n",
    "\n",
    "elif not username.isalpha():\n",
    "    print(\"Username can't contain digits.\")\n",
    "\n",
    "else:\n",
    "    print(f\"Welcome {username}\")        "
   ]
  }
 ],
 "metadata": {
  "kernelspec": {
   "display_name": "Python 3",
   "language": "python",
   "name": "python3"
  },
  "language_info": {
   "codemirror_mode": {
    "name": "ipython",
    "version": 3
   },
   "file_extension": ".py",
   "mimetype": "text/x-python",
   "name": "python",
   "nbconvert_exporter": "python",
   "pygments_lexer": "ipython3",
   "version": "3.13.5"
  }
 },
 "nbformat": 4,
 "nbformat_minor": 5
}
