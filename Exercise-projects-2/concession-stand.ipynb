{
 "cells": [
  {
   "cell_type": "code",
   "execution_count": null,
   "id": "3c7e6d7c",
   "metadata": {},
   "outputs": [],
   "source": [
    "# concession stand program\n",
    "\n",
    "menu = {\n",
    "    \"popcorn\": 5.00,\n",
    "    \"soda\": 3.00,\n",
    "    \"candy\": 2.50,\n",
    "    \"hot dog\": 4.00,\n",
    "    \"nachos\": 4.50\n",
    "}\n",
    "cart = []\n",
    "total = 0\n",
    "\n",
    "print(\"Welcome to the concession stand!\")\n",
    "print(\"Here is the menu:\")\n",
    "\n",
    "for key, value in menu.items():\n",
    "    print(f\"{key:10} : {value:.2f}\")\n",
    "print()    \n",
    "\n",
    "while True:\n",
    "    food = input(\"What would you like to order? (type 'done' to finish) \").lower()\n",
    "    if food == \"done\":\n",
    "        break\n",
    "    elif menu.get(food) is not None:\n",
    "        cart.append(food)\n",
    "\n",
    "for food in cart:    \n",
    "    total += menu.get(food)\n",
    "    \n",
    "print(\"You bought the following items:\")\n",
    "for item in cart:\n",
    "    print(f\"- {item} (${menu[item]:.2f})\")\n",
    "\n",
    "print(f\"\\nYour total is: ${total:.2f}\")\n"
   ]
  }
 ],
 "metadata": {
  "kernelspec": {
   "display_name": "Python 3",
   "language": "python",
   "name": "python3"
  },
  "language_info": {
   "codemirror_mode": {
    "name": "ipython",
    "version": 3
   },
   "file_extension": ".py",
   "mimetype": "text/x-python",
   "name": "python",
   "nbconvert_exporter": "python",
   "pygments_lexer": "ipython3",
   "version": "3.13.5"
  }
 },
 "nbformat": 4,
 "nbformat_minor": 5
}
