{
 "cells": [
  {
   "cell_type": "code",
   "execution_count": null,
   "id": "ec094091",
   "metadata": {},
   "outputs": [],
   "source": [
    "import random \n",
    "options = [\"rock\", \"paper\", \"scissors\"]\n",
    "\n",
    "playing = True\n",
    "while playing:\n",
    "\n",
    "    player = None\n",
    "    computer = random.choice(options)\n",
    "\n",
    "    while player not in options:\n",
    "        player = input(\"Enter a choice(rock, paper, scissors):\")\n",
    "\n",
    "    print(f\"Player: {player}\")\n",
    "    print(f\"Computer: {computer}\")\n",
    "\n",
    "    if player == computer:\n",
    "        print(\"its a tie\")\n",
    "\n",
    "    elif player == \"rock\" and computer == \" scissors\":\n",
    "        print(\"you win!\")    \n",
    "\n",
    "    elif player == \"paper\" and computer == \"rock\":\n",
    "        print(\"you win!\")\n",
    "\n",
    "    elif player == \"scisssors\" and computer == \"paper\":\n",
    "        print(\"you win!\")       \n",
    "\n",
    "    else:\n",
    "        print(\"you lose!\")    \n",
    "\n",
    "    play_again = input(\"Play again? (yes/no): \").lower()\n",
    "    if not play_again == \"yes\":\n",
    "        playing = False\n",
    "\n",
    "    print(\"Thanks for playing!\")        \n"
   ]
  }
 ],
 "metadata": {
  "kernelspec": {
   "display_name": "Python 3",
   "language": "python",
   "name": "python3"
  },
  "language_info": {
   "codemirror_mode": {
    "name": "ipython",
    "version": 3
   },
   "file_extension": ".py",
   "mimetype": "text/x-python",
   "name": "python",
   "nbconvert_exporter": "python",
   "pygments_lexer": "ipython3",
   "version": "3.13.5"
  }
 },
 "nbformat": 4,
 "nbformat_minor": 5
}
