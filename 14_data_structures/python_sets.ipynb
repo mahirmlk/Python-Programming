{
 "cells": [
  {
   "cell_type": "markdown",
   "id": "93c8a30c",
   "metadata": {},
   "source": [
    "# Sets\n",
    "\n",
    "A set is an unordered collection of items. Every set element is unique (no duplicates) and must be immutable (cannot be changed).\n",
    "\n",
    "However, a set itself is mutable. We can add or remove items from it.\n",
    "\n",
    "Sets can also be used to perform mathematical set operations like union, intersection, symmetric difference, etc.\n",
    "\n",
    "Characterstics:\n",
    "- Unordered\n",
    "- Mutable\n",
    "- No Duplicates\n",
    "- Can't contain mutable data types"
   ]
  },
  {
   "cell_type": "markdown",
   "id": "db1c7690",
   "metadata": {},
   "source": [
    "### Creating Sets"
   ]
  },
  {
   "cell_type": "code",
   "execution_count": 8,
   "id": "4da51ef3",
   "metadata": {},
   "outputs": [
    {
     "name": "stdout",
     "output_type": "stream",
     "text": [
      "set()\n",
      "<class 'set'>\n",
      "{1, 2, 3}\n",
      "{1, 'hello', (1, 2, 3), 4.5}\n",
      "{1, 2, 3}\n",
      "{1, 2, 3}\n",
      "{1, 2, (3, 4)}\n"
     ]
    }
   ],
   "source": [
    "# empty\n",
    "s = set()\n",
    "print(s)\n",
    "print(type(s))\n",
    "\n",
    "# 1D and 2D\n",
    "s1 = {1,2,3}\n",
    "print(s1)\n",
    "\n",
    "#s2 = {1,2,3,{4,5}}\n",
    "#print(s2)\n",
    "\n",
    "# homo and hetro\n",
    "s3 = {1,'hello',4.5,(1,2,3)}\n",
    "print(s3)\n",
    "\n",
    "# using type conversion\n",
    "s4 = set([1,2,3])\n",
    "print(s4)\n",
    "\n",
    "# duplicates not allowed\n",
    "s5 = {1,1,2,2,3,3}\n",
    "print(s5)\n",
    "\n",
    "# set can't have mutable item\n",
    "s6 = {1, 2, (3, 4)}\n",
    "print(s6)"
   ]
  },
  {
   "cell_type": "code",
   "execution_count": null,
   "id": "cb27150f",
   "metadata": {},
   "outputs": [
    {
     "name": "stdout",
     "output_type": "stream",
     "text": [
      "True\n"
     ]
    }
   ],
   "source": [
    "s1 = {1,2,3}\n",
    "s2 = {3,2,1}\n",
    "\n",
    "print(s1 == s2)"
   ]
  },
  {
   "cell_type": "code",
   "execution_count": null,
   "id": "6a560f7e",
   "metadata": {},
   "outputs": [],
   "source": []
  },
  {
   "cell_type": "markdown",
   "id": "f06b74f8",
   "metadata": {},
   "source": [
    "### Accessing Items"
   ]
  },
  {
   "cell_type": "code",
   "execution_count": 4,
   "id": "6c3b1e37",
   "metadata": {},
   "outputs": [
    {
     "data": {
      "text/plain": [
       "[1, 2, 3]"
      ]
     },
     "execution_count": 4,
     "metadata": {},
     "output_type": "execute_result"
    }
   ],
   "source": [
    "s1 = {1,2,3,4}\n",
    "# Convert to list to use slicing\n",
    "list(s1)[:3]"
   ]
  },
  {
   "cell_type": "markdown",
   "id": "c03b5bd4",
   "metadata": {},
   "source": [
    "### Editing Items"
   ]
  },
  {
   "cell_type": "code",
   "execution_count": null,
   "id": "fcbdb3e8",
   "metadata": {},
   "outputs": [
    {
     "name": "stdout",
     "output_type": "stream",
     "text": [
      "{1, 2, 3, 100, 4}\n"
     ]
    }
   ],
   "source": [
    "s1 = {1,2,3,4}\n",
    "s1.add(100)\n",
    "print(s1)"
   ]
  },
  {
   "cell_type": "markdown",
   "id": "dbf0813c",
   "metadata": {},
   "source": [
    "### Adding Items"
   ]
  },
  {
   "cell_type": "code",
   "execution_count": null,
   "id": "25510897",
   "metadata": {},
   "outputs": [
    {
     "name": "stdout",
     "output_type": "stream",
     "text": [
      "{1, 2, 3, 4, 5, 6, 7}\n"
     ]
    }
   ],
   "source": [
    "S = {1,2,3,4}\n",
    "# add\n",
    "# S.add(5)\n",
    "# print(S)\n",
    "# update\n",
    "S.update([5,6,7])\n",
    "print(S)"
   ]
  },
  {
   "cell_type": "markdown",
   "id": "a48218b5",
   "metadata": {},
   "source": [
    "### Deleting Items"
   ]
  },
  {
   "cell_type": "code",
   "execution_count": null,
   "id": "bd65e9c1",
   "metadata": {},
   "outputs": [
    {
     "name": "stdout",
     "output_type": "stream",
     "text": [
      "set()\n"
     ]
    }
   ],
   "source": [
    "# del\n",
    "s = {1,2,3,4,5}\n",
    "# print(s)\n",
    "# del s[0]\n",
    "# print(s)\n",
    "# discard\n",
    "# s.discard(50)\n",
    "# print(s)\n",
    "# remove\n",
    "# s.remove(50)\n",
    "# print(s)\n",
    "# pop\n",
    "# s.pop()\n",
    "# clear\n",
    "s.clear()\n",
    "print(s)"
   ]
  },
  {
   "cell_type": "markdown",
   "id": "ac03ac6a",
   "metadata": {},
   "source": [
    "### Set Operation"
   ]
  },
  {
   "cell_type": "code",
   "execution_count": null,
   "id": "25a1353d",
   "metadata": {},
   "outputs": [
    {
     "name": "stdout",
     "output_type": "stream",
     "text": [
      "1\n",
      "2\n",
      "3\n",
      "4\n",
      "5\n"
     ]
    }
   ],
   "source": [
    "s1 = {1,2,3,4,5}\n",
    "s2 = {4,5,6,7,8}\n",
    "s1 | s2\n",
    "# Union(|)\n",
    "# Intersection(&)\n",
    "s1 & s2\n",
    "# Difference(-)\n",
    "s1 - s2\n",
    "s2 - s1\n",
    "# Symmetric Difference(^)\n",
    "s1 ^ s2\n",
    "# Membership Test\n",
    "1 not in s1\n",
    "# Iteration\n",
    "for i in s1:\n",
    "  print(i)"
   ]
  },
  {
   "cell_type": "markdown",
   "id": "1d4cc782",
   "metadata": {},
   "source": [
    "### Set Functions"
   ]
  },
  {
   "cell_type": "code",
   "execution_count": null,
   "id": "e6a146d6",
   "metadata": {},
   "outputs": [
    {
     "data": {
      "text/plain": [
       "[7, 5, 4, 3, 2, 1]"
      ]
     },
     "metadata": {},
     "output_type": "display_data"
    }
   ],
   "source": [
    "# len/sum/min/max/sorted\n",
    "s = {3,1,4,5,2,7}\n",
    "len(s)\n",
    "sum(s)\n",
    "min(s)\n",
    "max(s)\n",
    "sorted(s,reverse=True)"
   ]
  },
  {
   "cell_type": "code",
   "execution_count": null,
   "id": "93ff6d5e",
   "metadata": {},
   "outputs": [
    {
     "name": "stdout",
     "output_type": "stream",
     "text": [
      "{1, 2, 3, 4, 5, 6, 7, 8}\n",
      "{4, 5, 6, 7, 8}\n"
     ]
    }
   ],
   "source": [
    "# union/update\n",
    "s1 = {1,2,3,4,5}\n",
    "s2 = {4,5,6,7,8}\n",
    "\n",
    "# s1 | s2\n",
    "s1.union(s1)\n",
    "\n",
    "s1.update(s2)\n",
    "print(s1)\n",
    "print(s2)"
   ]
  },
  {
   "cell_type": "code",
   "execution_count": null,
   "id": "6019342d",
   "metadata": {},
   "outputs": [
    {
     "name": "stdout",
     "output_type": "stream",
     "text": [
      "{4, 5}\n",
      "{4, 5, 6, 7, 8}\n"
     ]
    }
   ],
   "source": [
    "# intersection/intersection_update\n",
    "s1 = {1,2,3,4,5}\n",
    "s2 = {4,5,6,7,8}\n",
    "\n",
    "s1.intersection(s2)\n",
    "\n",
    "s1.intersection_update(s2)\n",
    "print(s1)\n",
    "print(s2)"
   ]
  },
  {
   "cell_type": "code",
   "execution_count": null,
   "id": "75f9c5dd",
   "metadata": {},
   "outputs": [
    {
     "name": "stdout",
     "output_type": "stream",
     "text": [
      "{1, 2, 3}\n",
      "{4, 5, 6, 7, 8}\n"
     ]
    }
   ],
   "source": [
    "# difference/difference_update\n",
    "s1 = {1,2,3,4,5}\n",
    "s2 = {4,5,6,7,8}\n",
    "\n",
    "s1.difference(s2)\n",
    "\n",
    "s1.difference_update(s2)\n",
    "print(s1)\n",
    "print(s2)"
   ]
  },
  {
   "cell_type": "code",
   "execution_count": null,
   "id": "a7fc7633",
   "metadata": {},
   "outputs": [
    {
     "name": "stdout",
     "output_type": "stream",
     "text": [
      "{1, 2, 3, 6, 7, 8}\n",
      "{4, 5, 6, 7, 8}\n"
     ]
    }
   ],
   "source": [
    "# symmetric_difference/symmetric_difference_update\n",
    "s1 = {1,2,3,4,5}\n",
    "s2 = {4,5,6,7,8}\n",
    "\n",
    "s1.symmetric_difference(s2)\n",
    "\n",
    "s1.symmetric_difference_update(s2)\n",
    "print(s1)\n",
    "print(s2)"
   ]
  },
  {
   "cell_type": "code",
   "execution_count": null,
   "id": "f7861c11",
   "metadata": {},
   "outputs": [
    {
     "data": {
      "text/plain": [
       "True"
      ]
     },
     "metadata": {},
     "output_type": "display_data"
    }
   ],
   "source": [
    "# isdisjoint/issubset/issuperset\n",
    "s1 = {1,2,3,4}\n",
    "s2 = {7,8,5,6}\n",
    "\n",
    "s1.isdisjoint(s2)"
   ]
  },
  {
   "cell_type": "code",
   "execution_count": null,
   "id": "bdfdff26",
   "metadata": {},
   "outputs": [
    {
     "data": {
      "text/plain": [
       "True"
      ]
     },
     "metadata": {},
     "output_type": "display_data"
    }
   ],
   "source": [
    "s1 = {1,2,3,4,5}\n",
    "s2 = {3,4,5}\n",
    "\n",
    "s1.issuperset(s2)"
   ]
  },
  {
   "cell_type": "code",
   "execution_count": null,
   "id": "bd565daa",
   "metadata": {},
   "outputs": [
    {
     "name": "stdout",
     "output_type": "stream",
     "text": [
      "{1, 2, 3}\n",
      "{1, 2, 3}\n"
     ]
    }
   ],
   "source": [
    "# copy\n",
    "s1 = {1,2,3}\n",
    "s2 = s1.copy()\n",
    "\n",
    "print(s1)\n",
    "print(s2)"
   ]
  },
  {
   "cell_type": "markdown",
   "id": "f178eccb",
   "metadata": {},
   "source": [
    "### Frozenset\n",
    "Frozen set is just an immutable version of a Python set object"
   ]
  },
  {
   "cell_type": "code",
   "execution_count": null,
   "id": "9a409e1d",
   "metadata": {},
   "outputs": [
    {
     "data": {
      "text/plain": [
       "frozenset({1, 2, 3, 4, 5})"
      ]
     },
     "metadata": {},
     "output_type": "display_data"
    }
   ],
   "source": [
    "# create frozenset\n",
    "fs1 = frozenset([1,2,3])\n",
    "fs2 = frozenset([3,4,5])\n",
    "\n",
    "fs1 | fs2"
   ]
  },
  {
   "cell_type": "code",
   "execution_count": null,
   "id": "a69e7b4b",
   "metadata": {},
   "outputs": [],
   "source": [
    "# what works and what does not\n",
    "# works -> all read functions\n",
    "# does't work -> write operations"
   ]
  },
  {
   "cell_type": "code",
   "execution_count": null,
   "id": "40f889fb",
   "metadata": {},
   "outputs": [
    {
     "data": {
      "text/plain": [
       "frozenset({1, 2, frozenset({3, 4})})"
      ]
     },
     "metadata": {},
     "output_type": "display_data"
    }
   ],
   "source": [
    "# When to use\n",
    "# 2D sets\n",
    "fs = frozenset([1,2,frozenset([3,4])])\n",
    "fs"
   ]
  },
  {
   "cell_type": "markdown",
   "id": "43536ec1",
   "metadata": {},
   "source": [
    "### Set Comprehension"
   ]
  },
  {
   "cell_type": "code",
   "execution_count": null,
   "id": "68ffb41e",
   "metadata": {},
   "outputs": [
    {
     "data": {
      "text/plain": [
       "{36, 49, 64, 81, 100}"
      ]
     },
     "metadata": {},
     "output_type": "display_data"
    }
   ],
   "source": [
    "# examples\n",
    "\n",
    "{i**2 for i in range(1,11) if i>5}"
   ]
  },
  {
   "cell_type": "code",
   "execution_count": null,
   "id": "8e7ce583",
   "metadata": {},
   "outputs": [],
   "source": []
  }
 ],
 "metadata": {
  "kernelspec": {
   "display_name": "Python 3",
   "language": "python",
   "name": "python3"
  },
  "language_info": {
   "codemirror_mode": {
    "name": "ipython",
    "version": 3
   },
   "file_extension": ".py",
   "mimetype": "text/x-python",
   "name": "python",
   "nbconvert_exporter": "python",
   "pygments_lexer": "ipython3",
   "version": "3.13.5"
  }
 },
 "nbformat": 4,
 "nbformat_minor": 5
}
